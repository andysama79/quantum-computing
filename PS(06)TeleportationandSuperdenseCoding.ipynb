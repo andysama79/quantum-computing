{
 "cells": [
  {
   "cell_type": "markdown",
   "metadata": {},
   "source": [
    "# Quantum Teleportation and Superdense Coding"
   ]
  },
  {
   "cell_type": "markdown",
   "metadata": {},
   "source": [
    "Before starting with these topics its useful to review one of the fundamental properties of qubits: \n",
    "\n",
    "- ### **Qubits in an 'unknown' state cannot be copied** (*no-cloning theorem*) "
   ]
  },
  {
   "cell_type": "markdown",
   "metadata": {},
   "source": [
    "#### <font color='red'> Exercise 1: </font>Create a classical operation that can be used to copy classical bits ($0$ or $1$)\n",
    "#### <font color='red'> Exercise 2:</font> Create a quantum circuit that copies the state $\\ket{+}$ (note, this is a 'known' state)"
   ]
  },
  {
   "cell_type": "markdown",
   "metadata": {},
   "source": [
    "##### **Explanation for no-cloning theorem**\n",
    "\n",
    "Let's say we have a qubit in an arbitrary state $\\ket{\\psi} = \\alpha \\ket{0} + \\beta \\ket{1}$ and we want to copy this. Let's say there exists an unitary operation that does this.\n",
    "\n",
    "Thus we assume, $$U \\ket{\\psi} \\ket{0} = \\ket{\\psi}\\ket{\\psi}$$ If such a $U$ exists, we have essentially copied the state $\\ket{\\psi}$ to another qubit. Let's say such a operator exists, thus we get"
   ]
  },
  {
   "cell_type": "markdown",
   "metadata": {},
   "source": [
    "$$ U \\ket{\\psi}\\ket{0} = (\\alpha \\ket{0} + \\beta \\ket{1}) (\\alpha \\ket{0} + \\beta \\ket{1})= (\\alpha^ 2 \\ket{00} + \\alpha \\beta \\ket{01} + \\beta \\alpha \\ket{10}+ \\beta^2 \\ket{11})$$\n",
    "\n",
    "Also when we use $U$ to clone the expansion of $\\ket{\\psi}$ we see,\n",
    "\n",
    "$$ U \\ket{\\psi}\\ket{0} = U (\\alpha \\ket{0} \\ket{0}) + U (\\beta \\ket{1} \\ket{0}) = \\alpha \\ket{0} \\ket{0} + \\beta \\ket{1} \\ket{1}$$\n",
    "\n",
    "Comparing the two resulting states above, we can see that they are different (there are no cross-terms in the second state). We get a contradiction and thus we cannot construct such a unitary operator $U$. "
   ]
  },
  {
   "cell_type": "markdown",
   "metadata": {},
   "source": [
    "## Quantum Teleportation"
   ]
  },
  {
   "cell_type": "markdown",
   "metadata": {},
   "source": [
    "(Extracted as it is from Nielsen and Chuan, 2010)\n",
    "\n",
    "*Quantum teleportation is a technique for moving quantum states around, even in the absence of a quantum communications channel linking the sender of the quantum state to the recipient.*\n",
    "\n",
    "**Here’s how it works:** \n",
    "\n",
    "Alice and Bob met long ago but now live far apart. While together they generated an EPR pair (refer PS(05)), each taking one qubit of the EPR pair when they separated. Many years later, Bob is in hiding, and Alice’s mission is to deliver an arbitrary qubit $\\ket{\\psi}$ to Bob. She does not know the state of the qubit, and moreover can only send classical information to Bob.\n",
    " \n",
    "Intuitively, things look pretty bad for Alice. She doesn’t know the state $\\ket{\\psi}$ of the qubit she has to send to Bob, and the laws of quantum mechanics prevent her from determining the state when she only has a single copy of $\\ket{\\psi}$ in her possession. (<font color='red'> WHY? </font>) What’s worse, even if she did know the state $\\ket{\\psi}$, describing it precisely takes an infinite amount of classical information since $\\ket{\\psi}$ takes values in a continuous space. So even if she did know $\\ket{\\psi}$, it would take forever for Alice to describe the state to Bob.  \n",
    "\n",
    "Fortunately for Alice, quantum teleportation is a way of utilizing the entangled EPR pair in order to send $\\ket{\\psi}$ to Bob, with only a small overhead of classical communication."
   ]
  },
  {
   "cell_type": "markdown",
   "metadata": {},
   "source": [
    "**Teleportation protocol:**\n",
    "\n",
    "\n",
    "- Suppose Alice and Bob already share an EPR pair (Alice has the first qubit and Bob has the second qubit of the EPR pair). The state of the EPR pair is:\n",
    "\n",
    "    $$ \\ket{\\psi} = \\frac{\\ket{00} + \\ket{11}}{\\sqrt{2}}$$\n",
    "\n",
    "\n",
    "- Alice wants to send the quantum message (encoded by a qubit), \n",
    "$$ \\ket{v} = \\begin{pmatrix} \n",
    " \\alpha\\\\\\beta \n",
    " \\end{pmatrix} = \\alpha \\ket{0} + \\beta \\ket{1} $$\n",
    "\n",
    "So there are three qubits in total, two belonging to the EPR pair and one corresponding to the message to be sent. Alice has $2$ qubits and Bob has $1$. The goal is to send $\\ket{\\psi}$ to Bob.\n",
    "\n",
    "Thus to begin with, the full quantum state of the three qubits between Alice and Bob is (note, first $2$ qubits are with Alice and the third qubit is with Bob)\n",
    "\n",
    "$$= \\big (\\alpha \\ket{0} + \\beta \\ket{1}\\big) \\big(\\frac {\\ket{00} + \\ket{11}}{\\sqrt{2}} \\big) = \\frac {\\big( \\alpha \\ket{000} + \\alpha \\ket{011} + \\beta \\ket{100} + \\beta \\ket{111} \\big)}{\\sqrt{2}}\n"
   ]
  },
  {
   "cell_type": "markdown",
   "metadata": {},
   "source": [
    "- Alice applies a $CNOT$ gate with the message qubit as the control and her qubit of the EPR pair as the target. The resulting state now is, \n",
    "\n",
    "$$ = \\frac {\\big( \\alpha \\ket{000} + \\alpha \\ket{011} + \\beta \\ket{110} + \\beta \\ket{101} \\big)}{\\sqrt{2}}$$ \n",
    "This can also be written as follows: \n",
    "$$ = \\frac {\\alpha \\ket{0} \\big( \\ket{00} + \\ket{11} \\big) + \\beta \\ket{1} \\big( \\ket{10} + \\ket{01} \\big)}{\\sqrt{2}}$$ \n",
    "\n",
    "\n",
    "- She then applies a Hadamard gate to the message qubit (the first qubit).\n",
    "\n",
    "$$ = \\frac {\\alpha \\big (\\ket{0} + \\ket{1})  \\big( \\ket{00} + \\ket{11} \\big) + \\beta \\big (\\ket{0} - \\ket{1})  \\big( \\ket{10} + \\ket{01} \\big)}{2}$$ \n",
    "\n",
    "Simple regrouping of terms leads to the state being rewritten as: (<font color='red'> Check! </font>) \n",
    "\n",
    "$$ =\\frac{\\ket{00}\\big(\\alpha \\ket{0} + \\beta \\ket{1} \\big) + \\ket{01}\\big(\\alpha \\ket{1} + \\beta \\ket{0} \\big)+ \\ket{10}\\big(\\alpha \\ket{0} - \\beta \\ket{1} \\big) + \\ket{11}\\big(\\alpha \\ket{1} - \\beta \\ket{0} \\big)}{2}$$\n",
    "\n",
    "In this expression, first term has Alice's qubits is $\\ket{00}$ and Bob's qubit in state $\\alpha \\ket{0} + \\beta \\ket{1}$ which is exactly the message to be sent. Similarly the other terms can be interpreted. (note in the rest of the terms, Bob's state need to be manipulated to retrieve the original message)\n",
    "\n",
    "- Alice performs measurement on both of her qubits. She can get any of the four computational basis states each with probability $\\frac{1}{4}$.\n",
    "\n",
    "Depeding on the measurement outcomes, Bob's qubit is in the following states:\n",
    "\n",
    "1. \"00\":  $ \\ket{v_{00}} = \\alpha \\ket{0} + \\beta \\ket{1} $\n",
    "2. \"01\":  $ \\ket{v_{01}} = \\alpha \\ket{1} + \\beta \\ket{0} $\n",
    "3. \"10\":  $ \\ket{v_{10}} =  \\alpha \\ket{0} - \\beta \\ket{1} $\n",
    "4. \"11\":  $ \\ket{v_{11}} =  \\alpha \\ket{1} - \\beta \\ket{0} $\n",
    "\n",
    "- The measurement results is then sent to Bob using $2$ classical bits $ (M_1,M_2) $, via a classical communication channel. \n",
    "\n",
    "For each $ (M_1,M_2)  $ pair, Bob has to apply appropriate quantum operator(s) to retrieve the state $ \\ket{\\psi} = \\alpha \\big(\\ket{0} + \\beta \\ket{1}\\big) $.\n",
    "\n",
    "- If $(M_1,M_2) = (0,0)$, Bob need not do anything.\n",
    "- If $(M_1,M_2)  = (0,1)$, Bob applies a NOT gate to retrieve the state.\n",
    "- If $(M_1,M_2)  = (1,0)$, Bob applies a ___ gate to retrieve the state.\n",
    "- If $(M_1,M_2)  = (1,1)$, Bob applies __ and a __ gate (necessarily in the same order- <font color='red'> Why does the order matter? </font>) to retrieve the state.  \n",
    "(<font color='red'> fill in the blanks </font>)"
   ]
  },
  {
   "cell_type": "code",
   "execution_count": null,
   "metadata": {},
   "outputs": [],
   "source": []
  },
  {
   "cell_type": "markdown",
   "metadata": {},
   "source": [
    "![Teleportation Protocol](Images/Teleportation.png)"
   ]
  },
  {
   "cell_type": "markdown",
   "metadata": {},
   "source": [
    "#### Implementing the Quantum Teleportation Protocol"
   ]
  },
  {
   "cell_type": "code",
   "execution_count": 3,
   "metadata": {},
   "outputs": [
    {
     "name": "stdout",
     "output_type": "stream",
     "text": [
      "the picked angle is 291.6 degrees and 5.089380098815465 radians\n"
     ]
    },
    {
     "ename": "MissingOptionalLibraryError",
     "evalue": "\"The 'pylatexenc' library is required to use 'MatplotlibDrawer'. You can install it with 'pip install pylatexenc'.\"",
     "output_type": "error",
     "traceback": [
      "\u001b[0;31m---------------------------------------------------------------------------\u001b[0m",
      "\u001b[0;31mMissingOptionalLibraryError\u001b[0m               Traceback (most recent call last)",
      "Cell \u001b[0;32mIn[3], line 43\u001b[0m\n\u001b[1;32m     41\u001b[0m qc\u001b[38;5;241m.\u001b[39mmeasure(q[\u001b[38;5;241m0\u001b[39m], c3)   \u001b[38;5;66;03m# if the teleportation protocol is correctly done, the histogram results for the state of q[0] must match the state to be sent \u001b[39;00m\n\u001b[1;32m     42\u001b[0m \u001b[38;5;66;03m# draw the circuit\u001b[39;00m\n\u001b[0;32m---> 43\u001b[0m display(\u001b[43mqc\u001b[49m\u001b[38;5;241;43m.\u001b[39;49m\u001b[43mdraw\u001b[49m\u001b[43m(\u001b[49m\u001b[43moutput\u001b[49m\u001b[38;5;241;43m=\u001b[39;49m\u001b[38;5;124;43m'\u001b[39;49m\u001b[38;5;124;43mmpl\u001b[39;49m\u001b[38;5;124;43m'\u001b[39;49m\u001b[43m,\u001b[49m\u001b[43m \u001b[49m\u001b[43mreverse_bits\u001b[49m\u001b[38;5;241;43m=\u001b[39;49m\u001b[38;5;28;43;01mTrue\u001b[39;49;00m\u001b[43m)\u001b[49m)\n\u001b[1;32m     46\u001b[0m \u001b[38;5;28;01mfrom\u001b[39;00m \u001b[38;5;21;01mqiskit\u001b[39;00m\u001b[38;5;21;01m.\u001b[39;00m\u001b[38;5;21;01mvisualization\u001b[39;00m \u001b[38;5;28;01mimport\u001b[39;00m plot_histogram\n\u001b[1;32m     48\u001b[0m \u001b[38;5;66;03m# Execute the circuit on the qasm simulator\u001b[39;00m\n",
      "File \u001b[0;32m~/projects/quantum-computing/.quantum/lib/python3.11/site-packages/qiskit/circuit/quantumcircuit.py:1807\u001b[0m, in \u001b[0;36mQuantumCircuit.draw\u001b[0;34m(self, output, scale, filename, style, interactive, plot_barriers, reverse_bits, justify, vertical_compression, idle_wires, with_layout, fold, ax, initial_state, cregbundle, wire_order, expr_len)\u001b[0m\n\u001b[1;32m   1804\u001b[0m \u001b[38;5;66;03m# pylint: disable=cyclic-import\u001b[39;00m\n\u001b[1;32m   1805\u001b[0m \u001b[38;5;28;01mfrom\u001b[39;00m \u001b[38;5;21;01mqiskit\u001b[39;00m\u001b[38;5;21;01m.\u001b[39;00m\u001b[38;5;21;01mvisualization\u001b[39;00m \u001b[38;5;28;01mimport\u001b[39;00m circuit_drawer\n\u001b[0;32m-> 1807\u001b[0m \u001b[38;5;28;01mreturn\u001b[39;00m \u001b[43mcircuit_drawer\u001b[49m\u001b[43m(\u001b[49m\n\u001b[1;32m   1808\u001b[0m \u001b[43m    \u001b[49m\u001b[38;5;28;43mself\u001b[39;49m\u001b[43m,\u001b[49m\n\u001b[1;32m   1809\u001b[0m \u001b[43m    \u001b[49m\u001b[43mscale\u001b[49m\u001b[38;5;241;43m=\u001b[39;49m\u001b[43mscale\u001b[49m\u001b[43m,\u001b[49m\n\u001b[1;32m   1810\u001b[0m \u001b[43m    \u001b[49m\u001b[43mfilename\u001b[49m\u001b[38;5;241;43m=\u001b[39;49m\u001b[43mfilename\u001b[49m\u001b[43m,\u001b[49m\n\u001b[1;32m   1811\u001b[0m \u001b[43m    \u001b[49m\u001b[43mstyle\u001b[49m\u001b[38;5;241;43m=\u001b[39;49m\u001b[43mstyle\u001b[49m\u001b[43m,\u001b[49m\n\u001b[1;32m   1812\u001b[0m \u001b[43m    \u001b[49m\u001b[43moutput\u001b[49m\u001b[38;5;241;43m=\u001b[39;49m\u001b[43moutput\u001b[49m\u001b[43m,\u001b[49m\n\u001b[1;32m   1813\u001b[0m \u001b[43m    \u001b[49m\u001b[43minteractive\u001b[49m\u001b[38;5;241;43m=\u001b[39;49m\u001b[43minteractive\u001b[49m\u001b[43m,\u001b[49m\n\u001b[1;32m   1814\u001b[0m \u001b[43m    \u001b[49m\u001b[43mplot_barriers\u001b[49m\u001b[38;5;241;43m=\u001b[39;49m\u001b[43mplot_barriers\u001b[49m\u001b[43m,\u001b[49m\n\u001b[1;32m   1815\u001b[0m \u001b[43m    \u001b[49m\u001b[43mreverse_bits\u001b[49m\u001b[38;5;241;43m=\u001b[39;49m\u001b[43mreverse_bits\u001b[49m\u001b[43m,\u001b[49m\n\u001b[1;32m   1816\u001b[0m \u001b[43m    \u001b[49m\u001b[43mjustify\u001b[49m\u001b[38;5;241;43m=\u001b[39;49m\u001b[43mjustify\u001b[49m\u001b[43m,\u001b[49m\n\u001b[1;32m   1817\u001b[0m \u001b[43m    \u001b[49m\u001b[43mvertical_compression\u001b[49m\u001b[38;5;241;43m=\u001b[39;49m\u001b[43mvertical_compression\u001b[49m\u001b[43m,\u001b[49m\n\u001b[1;32m   1818\u001b[0m \u001b[43m    \u001b[49m\u001b[43midle_wires\u001b[49m\u001b[38;5;241;43m=\u001b[39;49m\u001b[43midle_wires\u001b[49m\u001b[43m,\u001b[49m\n\u001b[1;32m   1819\u001b[0m \u001b[43m    \u001b[49m\u001b[43mwith_layout\u001b[49m\u001b[38;5;241;43m=\u001b[39;49m\u001b[43mwith_layout\u001b[49m\u001b[43m,\u001b[49m\n\u001b[1;32m   1820\u001b[0m \u001b[43m    \u001b[49m\u001b[43mfold\u001b[49m\u001b[38;5;241;43m=\u001b[39;49m\u001b[43mfold\u001b[49m\u001b[43m,\u001b[49m\n\u001b[1;32m   1821\u001b[0m \u001b[43m    \u001b[49m\u001b[43max\u001b[49m\u001b[38;5;241;43m=\u001b[39;49m\u001b[43max\u001b[49m\u001b[43m,\u001b[49m\n\u001b[1;32m   1822\u001b[0m \u001b[43m    \u001b[49m\u001b[43minitial_state\u001b[49m\u001b[38;5;241;43m=\u001b[39;49m\u001b[43minitial_state\u001b[49m\u001b[43m,\u001b[49m\n\u001b[1;32m   1823\u001b[0m \u001b[43m    \u001b[49m\u001b[43mcregbundle\u001b[49m\u001b[38;5;241;43m=\u001b[39;49m\u001b[43mcregbundle\u001b[49m\u001b[43m,\u001b[49m\n\u001b[1;32m   1824\u001b[0m \u001b[43m    \u001b[49m\u001b[43mwire_order\u001b[49m\u001b[38;5;241;43m=\u001b[39;49m\u001b[43mwire_order\u001b[49m\u001b[43m,\u001b[49m\n\u001b[1;32m   1825\u001b[0m \u001b[43m    \u001b[49m\u001b[43mexpr_len\u001b[49m\u001b[38;5;241;43m=\u001b[39;49m\u001b[43mexpr_len\u001b[49m\u001b[43m,\u001b[49m\n\u001b[1;32m   1826\u001b[0m \u001b[43m\u001b[49m\u001b[43m)\u001b[49m\n",
      "File \u001b[0;32m~/projects/quantum-computing/.quantum/lib/python3.11/site-packages/qiskit/visualization/circuit/circuit_visualization.py:321\u001b[0m, in \u001b[0;36mcircuit_drawer\u001b[0;34m(circuit, scale, filename, style, output, interactive, plot_barriers, reverse_bits, justify, vertical_compression, idle_wires, with_layout, fold, ax, initial_state, cregbundle, wire_order, expr_len)\u001b[0m\n\u001b[1;32m    306\u001b[0m     \u001b[38;5;28;01mreturn\u001b[39;00m _generate_latex_source(\n\u001b[1;32m    307\u001b[0m         circuit,\n\u001b[1;32m    308\u001b[0m         filename\u001b[38;5;241m=\u001b[39mfilename,\n\u001b[0;32m   (...)\u001b[0m\n\u001b[1;32m    318\u001b[0m         wire_order\u001b[38;5;241m=\u001b[39mcomplete_wire_order,\n\u001b[1;32m    319\u001b[0m     )\n\u001b[1;32m    320\u001b[0m \u001b[38;5;28;01melif\u001b[39;00m output \u001b[38;5;241m==\u001b[39m \u001b[38;5;124m\"\u001b[39m\u001b[38;5;124mmpl\u001b[39m\u001b[38;5;124m\"\u001b[39m:\n\u001b[0;32m--> 321\u001b[0m     image \u001b[38;5;241m=\u001b[39m \u001b[43m_matplotlib_circuit_drawer\u001b[49m\u001b[43m(\u001b[49m\n\u001b[1;32m    322\u001b[0m \u001b[43m        \u001b[49m\u001b[43mcircuit\u001b[49m\u001b[43m,\u001b[49m\n\u001b[1;32m    323\u001b[0m \u001b[43m        \u001b[49m\u001b[43mscale\u001b[49m\u001b[38;5;241;43m=\u001b[39;49m\u001b[43mscale\u001b[49m\u001b[43m,\u001b[49m\n\u001b[1;32m    324\u001b[0m \u001b[43m        \u001b[49m\u001b[43mfilename\u001b[49m\u001b[38;5;241;43m=\u001b[39;49m\u001b[43mfilename\u001b[49m\u001b[43m,\u001b[49m\n\u001b[1;32m    325\u001b[0m \u001b[43m        \u001b[49m\u001b[43mstyle\u001b[49m\u001b[38;5;241;43m=\u001b[39;49m\u001b[43mstyle\u001b[49m\u001b[43m,\u001b[49m\n\u001b[1;32m    326\u001b[0m \u001b[43m        \u001b[49m\u001b[43mplot_barriers\u001b[49m\u001b[38;5;241;43m=\u001b[39;49m\u001b[43mplot_barriers\u001b[49m\u001b[43m,\u001b[49m\n\u001b[1;32m    327\u001b[0m \u001b[43m        \u001b[49m\u001b[43mreverse_bits\u001b[49m\u001b[38;5;241;43m=\u001b[39;49m\u001b[43mreverse_bits\u001b[49m\u001b[43m,\u001b[49m\n\u001b[1;32m    328\u001b[0m \u001b[43m        \u001b[49m\u001b[43mjustify\u001b[49m\u001b[38;5;241;43m=\u001b[39;49m\u001b[43mjustify\u001b[49m\u001b[43m,\u001b[49m\n\u001b[1;32m    329\u001b[0m \u001b[43m        \u001b[49m\u001b[43midle_wires\u001b[49m\u001b[38;5;241;43m=\u001b[39;49m\u001b[43midle_wires\u001b[49m\u001b[43m,\u001b[49m\n\u001b[1;32m    330\u001b[0m \u001b[43m        \u001b[49m\u001b[43mwith_layout\u001b[49m\u001b[38;5;241;43m=\u001b[39;49m\u001b[43mwith_layout\u001b[49m\u001b[43m,\u001b[49m\n\u001b[1;32m    331\u001b[0m \u001b[43m        \u001b[49m\u001b[43mfold\u001b[49m\u001b[38;5;241;43m=\u001b[39;49m\u001b[43mfold\u001b[49m\u001b[43m,\u001b[49m\n\u001b[1;32m    332\u001b[0m \u001b[43m        \u001b[49m\u001b[43max\u001b[49m\u001b[38;5;241;43m=\u001b[39;49m\u001b[43max\u001b[49m\u001b[43m,\u001b[49m\n\u001b[1;32m    333\u001b[0m \u001b[43m        \u001b[49m\u001b[43minitial_state\u001b[49m\u001b[38;5;241;43m=\u001b[39;49m\u001b[43minitial_state\u001b[49m\u001b[43m,\u001b[49m\n\u001b[1;32m    334\u001b[0m \u001b[43m        \u001b[49m\u001b[43mcregbundle\u001b[49m\u001b[38;5;241;43m=\u001b[39;49m\u001b[43mcregbundle\u001b[49m\u001b[43m,\u001b[49m\n\u001b[1;32m    335\u001b[0m \u001b[43m        \u001b[49m\u001b[43mwire_order\u001b[49m\u001b[38;5;241;43m=\u001b[39;49m\u001b[43mcomplete_wire_order\u001b[49m\u001b[43m,\u001b[49m\n\u001b[1;32m    336\u001b[0m \u001b[43m        \u001b[49m\u001b[43mexpr_len\u001b[49m\u001b[38;5;241;43m=\u001b[39;49m\u001b[43mexpr_len\u001b[49m\u001b[43m,\u001b[49m\n\u001b[1;32m    337\u001b[0m \u001b[43m    \u001b[49m\u001b[43m)\u001b[49m\n\u001b[1;32m    338\u001b[0m \u001b[38;5;28;01melse\u001b[39;00m:\n\u001b[1;32m    339\u001b[0m     \u001b[38;5;28;01mraise\u001b[39;00m VisualizationError(\n\u001b[1;32m    340\u001b[0m         \u001b[38;5;124m\"\u001b[39m\u001b[38;5;124mInvalid output type \u001b[39m\u001b[38;5;132;01m%s\u001b[39;00m\u001b[38;5;124m selected. The only valid choices \u001b[39m\u001b[38;5;124m\"\u001b[39m\n\u001b[1;32m    341\u001b[0m         \u001b[38;5;124m\"\u001b[39m\u001b[38;5;124mare text, latex, latex_source, and mpl\u001b[39m\u001b[38;5;124m\"\u001b[39m \u001b[38;5;241m%\u001b[39m output\n\u001b[1;32m    342\u001b[0m     )\n",
      "File \u001b[0;32m~/projects/quantum-computing/.quantum/lib/python3.11/site-packages/qiskit/visualization/circuit/circuit_visualization.py:701\u001b[0m, in \u001b[0;36m_matplotlib_circuit_drawer\u001b[0;34m(circuit, scale, filename, style, plot_barriers, reverse_bits, justify, idle_wires, with_layout, fold, ax, initial_state, cregbundle, wire_order, expr_len)\u001b[0m\n\u001b[1;32m    698\u001b[0m \u001b[38;5;28;01mif\u001b[39;00m fold \u001b[38;5;129;01mis\u001b[39;00m \u001b[38;5;28;01mNone\u001b[39;00m:\n\u001b[1;32m    699\u001b[0m     fold \u001b[38;5;241m=\u001b[39m \u001b[38;5;241m25\u001b[39m\n\u001b[0;32m--> 701\u001b[0m qcd \u001b[38;5;241m=\u001b[39m \u001b[43m_matplotlib\u001b[49m\u001b[38;5;241;43m.\u001b[39;49m\u001b[43mMatplotlibDrawer\u001b[49m\u001b[43m(\u001b[49m\n\u001b[1;32m    702\u001b[0m \u001b[43m    \u001b[49m\u001b[43mqubits\u001b[49m\u001b[43m,\u001b[49m\n\u001b[1;32m    703\u001b[0m \u001b[43m    \u001b[49m\u001b[43mclbits\u001b[49m\u001b[43m,\u001b[49m\n\u001b[1;32m    704\u001b[0m \u001b[43m    \u001b[49m\u001b[43mnodes\u001b[49m\u001b[43m,\u001b[49m\n\u001b[1;32m    705\u001b[0m \u001b[43m    \u001b[49m\u001b[43mcircuit\u001b[49m\u001b[43m,\u001b[49m\n\u001b[1;32m    706\u001b[0m \u001b[43m    \u001b[49m\u001b[43mscale\u001b[49m\u001b[38;5;241;43m=\u001b[39;49m\u001b[43mscale\u001b[49m\u001b[43m,\u001b[49m\n\u001b[1;32m    707\u001b[0m \u001b[43m    \u001b[49m\u001b[43mstyle\u001b[49m\u001b[38;5;241;43m=\u001b[39;49m\u001b[43mstyle\u001b[49m\u001b[43m,\u001b[49m\n\u001b[1;32m    708\u001b[0m \u001b[43m    \u001b[49m\u001b[43mreverse_bits\u001b[49m\u001b[38;5;241;43m=\u001b[39;49m\u001b[43mreverse_bits\u001b[49m\u001b[43m,\u001b[49m\n\u001b[1;32m    709\u001b[0m \u001b[43m    \u001b[49m\u001b[43mplot_barriers\u001b[49m\u001b[38;5;241;43m=\u001b[39;49m\u001b[43mplot_barriers\u001b[49m\u001b[43m,\u001b[49m\n\u001b[1;32m    710\u001b[0m \u001b[43m    \u001b[49m\u001b[43mfold\u001b[49m\u001b[38;5;241;43m=\u001b[39;49m\u001b[43mfold\u001b[49m\u001b[43m,\u001b[49m\n\u001b[1;32m    711\u001b[0m \u001b[43m    \u001b[49m\u001b[43max\u001b[49m\u001b[38;5;241;43m=\u001b[39;49m\u001b[43max\u001b[49m\u001b[43m,\u001b[49m\n\u001b[1;32m    712\u001b[0m \u001b[43m    \u001b[49m\u001b[43minitial_state\u001b[49m\u001b[38;5;241;43m=\u001b[39;49m\u001b[43minitial_state\u001b[49m\u001b[43m,\u001b[49m\n\u001b[1;32m    713\u001b[0m \u001b[43m    \u001b[49m\u001b[43mcregbundle\u001b[49m\u001b[38;5;241;43m=\u001b[39;49m\u001b[43mcregbundle\u001b[49m\u001b[43m,\u001b[49m\n\u001b[1;32m    714\u001b[0m \u001b[43m    \u001b[49m\u001b[43mwith_layout\u001b[49m\u001b[38;5;241;43m=\u001b[39;49m\u001b[43mwith_layout\u001b[49m\u001b[43m,\u001b[49m\n\u001b[1;32m    715\u001b[0m \u001b[43m    \u001b[49m\u001b[43mexpr_len\u001b[49m\u001b[38;5;241;43m=\u001b[39;49m\u001b[43mexpr_len\u001b[49m\u001b[43m,\u001b[49m\n\u001b[1;32m    716\u001b[0m \u001b[43m\u001b[49m\u001b[43m)\u001b[49m\n\u001b[1;32m    717\u001b[0m \u001b[38;5;28;01mreturn\u001b[39;00m qcd\u001b[38;5;241m.\u001b[39mdraw(filename)\n",
      "File \u001b[0;32m~/projects/quantum-computing/.quantum/lib/python3.11/site-packages/qiskit/utils/classtools.py:111\u001b[0m, in \u001b[0;36m_WrappedMethod.__get__.<locals>.out\u001b[0;34m(*args, **kwargs)\u001b[0m\n\u001b[1;32m    108\u001b[0m \u001b[38;5;129m@functools\u001b[39m\u001b[38;5;241m.\u001b[39mwraps(method)\n\u001b[1;32m    109\u001b[0m \u001b[38;5;28;01mdef\u001b[39;00m \u001b[38;5;21mout\u001b[39m(\u001b[38;5;241m*\u001b[39margs, \u001b[38;5;241m*\u001b[39m\u001b[38;5;241m*\u001b[39mkwargs):\n\u001b[1;32m    110\u001b[0m     \u001b[38;5;28;01mfor\u001b[39;00m callback \u001b[38;5;129;01min\u001b[39;00m \u001b[38;5;28mself\u001b[39m\u001b[38;5;241m.\u001b[39m_before:\n\u001b[0;32m--> 111\u001b[0m         \u001b[43mcallback\u001b[49m\u001b[38;5;241;43m.\u001b[39;49m\u001b[38;5;21;43m__get__\u001b[39;49m\u001b[43m(\u001b[49m\u001b[43mobj\u001b[49m\u001b[43m,\u001b[49m\u001b[43m \u001b[49m\u001b[43mobjtype\u001b[49m\u001b[43m)\u001b[49m\u001b[43m(\u001b[49m\u001b[38;5;241;43m*\u001b[39;49m\u001b[43margs\u001b[49m\u001b[43m,\u001b[49m\u001b[43m \u001b[49m\u001b[38;5;241;43m*\u001b[39;49m\u001b[38;5;241;43m*\u001b[39;49m\u001b[43mkwargs\u001b[49m\u001b[43m)\u001b[49m\n\u001b[1;32m    112\u001b[0m     retval \u001b[38;5;241m=\u001b[39m method(\u001b[38;5;241m*\u001b[39margs, \u001b[38;5;241m*\u001b[39m\u001b[38;5;241m*\u001b[39mkwargs)\n\u001b[1;32m    113\u001b[0m     \u001b[38;5;28;01mfor\u001b[39;00m callback \u001b[38;5;129;01min\u001b[39;00m \u001b[38;5;28mself\u001b[39m\u001b[38;5;241m.\u001b[39m_after:\n",
      "File \u001b[0;32m~/projects/quantum-computing/.quantum/lib/python3.11/site-packages/qiskit/utils/lazy_tester.py:39\u001b[0m, in \u001b[0;36m_RequireNow.__call__\u001b[0;34m(self, *_args, **_kwargs)\u001b[0m\n\u001b[1;32m     38\u001b[0m \u001b[38;5;28;01mdef\u001b[39;00m \u001b[38;5;21m__call__\u001b[39m(\u001b[38;5;28mself\u001b[39m, \u001b[38;5;241m*\u001b[39m_args, \u001b[38;5;241m*\u001b[39m\u001b[38;5;241m*\u001b[39m_kwargs):\n\u001b[0;32m---> 39\u001b[0m     \u001b[38;5;28;43mself\u001b[39;49m\u001b[38;5;241;43m.\u001b[39;49m\u001b[43m_tester\u001b[49m\u001b[38;5;241;43m.\u001b[39;49m\u001b[43mrequire_now\u001b[49m\u001b[43m(\u001b[49m\u001b[38;5;28;43mself\u001b[39;49m\u001b[38;5;241;43m.\u001b[39;49m\u001b[43m_feature\u001b[49m\u001b[43m)\u001b[49m\n",
      "File \u001b[0;32m~/projects/quantum-computing/.quantum/lib/python3.11/site-packages/qiskit/utils/lazy_tester.py:223\u001b[0m, in \u001b[0;36mLazyDependencyManager.require_now\u001b[0;34m(self, feature)\u001b[0m\n\u001b[1;32m    221\u001b[0m \u001b[38;5;28;01mif\u001b[39;00m \u001b[38;5;28mself\u001b[39m:\n\u001b[1;32m    222\u001b[0m     \u001b[38;5;28;01mreturn\u001b[39;00m\n\u001b[0;32m--> 223\u001b[0m \u001b[38;5;28;01mraise\u001b[39;00m MissingOptionalLibraryError(\n\u001b[1;32m    224\u001b[0m     libname\u001b[38;5;241m=\u001b[39m\u001b[38;5;28mself\u001b[39m\u001b[38;5;241m.\u001b[39m_name, name\u001b[38;5;241m=\u001b[39mfeature, pip_install\u001b[38;5;241m=\u001b[39m\u001b[38;5;28mself\u001b[39m\u001b[38;5;241m.\u001b[39m_install, msg\u001b[38;5;241m=\u001b[39m\u001b[38;5;28mself\u001b[39m\u001b[38;5;241m.\u001b[39m_msg\n\u001b[1;32m    225\u001b[0m )\n",
      "\u001b[0;31mMissingOptionalLibraryError\u001b[0m: \"The 'pylatexenc' library is required to use 'MatplotlibDrawer'. You can install it with 'pip install pylatexenc'.\""
     ]
    }
   ],
   "source": [
    "from qiskit import QuantumRegister, ClassicalRegister, QuantumCircuit, execute, Aer\n",
    "from math import pi, cos, sin\n",
    "from random import randrange\n",
    "\n",
    "# quantum circuit with three qubits and two bits (first qubit state is to be sent from Alice to Bob)\n",
    "q =  QuantumRegister(3,\"q\")\n",
    "c1 = ClassicalRegister(1,\"c1\")\n",
    "c2 = ClassicalRegister(1,\"c2\")\n",
    "c3 = ClassicalRegister(1,\"c3\")\n",
    "qc = QuantumCircuit(q,c1,c2,c3)\n",
    "\n",
    "# rotate the first qubit by random angle ( this resulting random state is to be sent to Bob); Preparing a state to be sent to Bob\n",
    "r = randrange(100)\n",
    "theta = 2*pi*(r/100) # radians\n",
    "print(\"the picked angle is\",r*3.6,\"degrees and\",theta,\"radians\")\n",
    "\n",
    "qc.ry(2*theta,q[2])    # the state of q[2] qubit is to be sent to Bob\n",
    "\n",
    "# creating an entanglement between q[1] and q[0] \n",
    "qc.h(q[1])\n",
    "qc.cx(q[1],q[0])\n",
    "\n",
    "# CNOT operator by Alice on her qubits where q[2] is the control qubit\n",
    "qc.cx(q[2],q[1])\n",
    "\n",
    "# Hadamard operator by Alice on q[2]\n",
    "qc.h(q[2])\n",
    "\n",
    "qc.barrier()\n",
    "\n",
    "# the measurement done by Alice on her qubits\n",
    "qc.measure(q[2],c2)\n",
    "qc.measure(q[1],c1)\n",
    "\n",
    "qc.barrier()\n",
    "\n",
    "# post-processing done by Bob to retrieve the state of q[2]\n",
    "qc.x(q[0]).c_if(c1,1)\n",
    "qc.z(q[0]).c_if(c2,1)\n",
    "\n",
    "qc.measure(q[0], c3)   # if the teleportation protocol is correctly done, the histogram results for the state of q[0] must match the state to be sent \n",
    "# draw the circuit\n",
    "display(qc.draw(output='mpl', reverse_bits=True))\n",
    "\n",
    "\n",
    "from qiskit.visualization import plot_histogram\n",
    "\n",
    "# Execute the circuit on the qasm simulator\n",
    "job = execute(qc, Aer.get_backend('qasm_simulator'), shots=50000)\n",
    "counts = job.result().get_counts(qc)\n",
    "print(counts)\n",
    "\n",
    "\n",
    "# Initialize dictionaries to store counts for the third qubit (q[0]) being 0 and 1\n",
    "counts_bit_0 = {}\n",
    "counts_bit_1 = {}\n",
    "\n",
    "# Iterate through the counts dictionary\n",
    "for state, count in counts.items():\n",
    "    # Split the state string into bits\n",
    "    bits = state.split()\n",
    "    # print(bits)\n",
    "    # Extract the third bit\n",
    "    third_bit = bits[0]\n",
    "    # Add the count to the corresponding dictionary based on the third bit value\n",
    "    if third_bit == '0':\n",
    "        counts_bit_0[state] = count\n",
    "    elif third_bit == '1':\n",
    "        counts_bit_1[state] = count\n",
    "\n",
    "# Sum the counts for each dictionary\n",
    "total_counts_bit_0 = sum(counts_bit_0.values())\n",
    "total_counts_bit_1 = sum(counts_bit_1.values())\n",
    "\n",
    "# Create a dictionary to hold the counts for the third bit being 0 and 1\n",
    "result_counts = {'0': total_counts_bit_0, '1': total_counts_bit_1}\n",
    "\n",
    "print(result_counts)\n",
    "\n",
    "# Plot the histogram for the specific qubit\n",
    "plot_histogram(result_counts)\n"
   ]
  },
  {
   "cell_type": "code",
   "execution_count": null,
   "metadata": {},
   "outputs": [
    {
     "name": "stderr",
     "output_type": "stream",
     "text": [
      "c:\\Users\\viraj.dsouza\\OneDrive - Plaksha University\\Main\\PlakshaQC\\qcvenv\\Lib\\site-packages\\qiskit\\visualization\\circuit\\matplotlib.py:266: FutureWarning: The default matplotlib drawer scheme will be changed to \"iqp\" in a following release. To silence this warning, specify the current default explicitly as style=\"clifford\", or the new default as style=\"iqp\".\n",
      "  self._style, def_font_ratio = load_style(self._style)\n"
     ]
    },
    {
     "data": {
      "image/png": "[encoded data removed]",
      "text/plain": [
       "<Figure size 269.064x200.667 with 1 Axes>"
      ]
     },
     "metadata": {},
     "output_type": "display_data"
    },
    {
     "data": {
      "image/png": "[encoded data removed]",
      "text/plain": [
       "<Figure size 700x500 with 1 Axes>"
      ]
     },
     "execution_count": 52,
     "metadata": {},
     "output_type": "execute_result"
    }
   ],
   "source": [
    "# Drawing the histogram for the qubit state to be sent (angle has been copied from the previous code block where the angle was randomly generated)\n",
    "\n",
    "from qiskit import QuantumRegister, ClassicalRegister, QuantumCircuit, execute, Aer\n",
    "# quantum circuit with three qubits and two bits (first qubit state is to be sent from Alice to Bob)\n",
    "q =  QuantumRegister(1,\"q\")\n",
    "c= ClassicalRegister(1,\"c\")\n",
    "\n",
    "qc_check = QuantumCircuit(q,c)\n",
    "\n",
    "theta= 6.031857894892402\n",
    "qc_check.ry(2*theta,q[0])\n",
    "qc_check.measure(q[0], c[0])\n",
    "\n",
    "display(qc_check.draw(output='mpl'))\n",
    "\n",
    "job = execute(qc_check, Aer.get_backend('qasm_simulator'), shots=50000)\n",
    "counts = job.result().get_counts(qc_check)\n",
    "\n",
    "from qiskit.visualization import plot_histogram\n",
    "plot_histogram(counts)\n"
   ]
  },
  {
   "cell_type": "markdown",
   "metadata": {},
   "source": [
    "#### Clearly, the histogram is very similar, hence our protocol is correct. Bob has received the state sent by Alice through two classical bits"
   ]
  },
  {
   "cell_type": "markdown",
   "metadata": {},
   "source": [
    "T*he following snippet has been taken from Nielsen and Chuang (2010). It speaks about the applications of teleportation as well as some interesting features of teleportation that seemingly look like violation of faster than light travel and the no cloning theorem. Please go through this.*"
   ]
  },
  {
   "cell_type": "markdown",
   "metadata": {},
   "source": [
    "![Teleportation](Images/TelportNC.png)"
   ]
  },
  {
   "cell_type": "markdown",
   "metadata": {},
   "source": [
    "## Superdense Coding"
   ]
  },
  {
   "cell_type": "markdown",
   "metadata": {},
   "source": [
    "Suppose 'Alice' and 'Bob' share a pair of qubits in the entangled state. Alice's goal is to share $2$ classical bits of information to Bob, but is only allowed to send a single qubit. Superdense Coding allows for such an information transfer."
   ]
  },
  {
   "cell_type": "markdown",
   "metadata": {},
   "source": [
    "![Superdense_coding](Images/Superdense_coding.png)"
   ]
  },
  {
   "cell_type": "markdown",
   "metadata": {},
   "source": [
    "**Superdense Coding Protocol:**"
   ]
  },
  {
   "cell_type": "markdown",
   "metadata": {},
   "source": [
    "- Suppose Alice and Bob already share an EPR pair (Alice has the first qubit and Bob has the second qubit of the EPR pair). The state of the EPR pair is:\n",
    "\n",
    "    $$ \\ket{\\psi} = \\frac{\\ket{00} + \\ket{11}}{\\sqrt{2}}$$\n",
    "\n",
    "- Alice has two bits of classical information: $ b_1,b_2 \\in \\{0,1\\} $ which she wishes to send to Bob.\n",
    "There are four possible values for the pair $ (b_1,b_2) $:  $ (0,0), (0,1), (1,0) or (1,1) $.\n",
    "\n",
    "- If $b_1$ is 1, then Alice applies x-gate (NOT operator) to her qubit.\n",
    "\n",
    "- If $b_2$ is 1, then Alice applies z-gate to her qubit.\n",
    "\n",
    "- After these operations, Alice sends her qubit to Bob. After the communication, Bob now has both qubits.\n",
    "\n",
    "- Bob applies cx-gate (CNOT operator), where Alice's qubit is the control qubit.\n",
    "\n",
    "- Bob applies h-gate (Hadamard operator) to Alice's qubit.\n",
    "\n",
    "- Bob measures both qubits.\n",
    "\n",
    "The measurement result will be exactly $ (b_1,b_2) $."
   ]
  },
  {
   "cell_type": "markdown",
   "metadata": {},
   "source": [
    "*Thus via the communication of $1$ qubit between Alice and Bob, $2$ classical bits have been transferred.*"
   ]
  },
  {
   "cell_type": "code",
   "execution_count": null,
   "metadata": {},
   "outputs": [
    {
     "name": "stderr",
     "output_type": "stream",
     "text": [
      "c:\\Users\\viraj.dsouza\\OneDrive - Plaksha University\\Main\\PlakshaQC\\qcvenv\\Lib\\site-packages\\qiskit\\visualization\\circuit\\matplotlib.py:266: FutureWarning: The default matplotlib drawer scheme will be changed to \"iqp\" in a following release. To silence this warning, specify the current default explicitly as style=\"clifford\", or the new default as style=\"iqp\".\n",
      "  self._style, def_font_ratio = load_style(self._style)\n"
     ]
    },
    {
     "data": {
      "image/png": "[encoded data removed]",
      "text/plain": [
       "<Figure size 788.961x284.278 with 1 Axes>"
      ]
     },
     "metadata": {},
     "output_type": "display_data"
    },
    {
     "name": "stdout",
     "output_type": "stream",
     "text": [
      "00 --> {'00': 100}\n"
     ]
    },
    {
     "data": {
      "image/png": "[encoded data removed]",
      "text/plain": [
       "<Figure size 872.572x284.278 with 1 Axes>"
      ]
     },
     "metadata": {},
     "output_type": "display_data"
    },
    {
     "name": "stdout",
     "output_type": "stream",
     "text": [
      "01 --> {'01': 100}\n"
     ]
    },
    {
     "data": {
      "image/png": "[encoded data removed]",
      "text/plain": [
       "<Figure size 872.572x284.278 with 1 Axes>"
      ]
     },
     "metadata": {},
     "output_type": "display_data"
    },
    {
     "name": "stdout",
     "output_type": "stream",
     "text": [
      "10 --> {'10': 100}\n"
     ]
    },
    {
     "data": {
      "image/png": "[encoded data removed]",
      "text/plain": [
       "<Figure size 956.183x284.278 with 1 Axes>"
      ]
     },
     "metadata": {},
     "output_type": "display_data"
    },
    {
     "name": "stdout",
     "output_type": "stream",
     "text": [
      "11 --> {'11': 100}\n"
     ]
    }
   ],
   "source": [
    "from qiskit import QuantumRegister, ClassicalRegister, QuantumCircuit, execute, Aer\n",
    "\n",
    "classical_bits = ['00','01','10','11']  \n",
    "\n",
    "for pair in classical_bits:\n",
    "\n",
    "    # create a quantum curcuit with two qubits: Alice's qubit is q[0] here and Bob's qubit is q[1].\n",
    "    q = QuantumRegister(2,\"q\") \n",
    "    c = ClassicalRegister(2,\"c\") \n",
    "    qc = QuantumCircuit(q,c)\n",
    "\n",
    "    # Entangling Alice's and Bob's qubit\n",
    "    qc.h(q[0])\n",
    "    qc.cx(q[0],q[1])\n",
    "\n",
    "    # if b_1 is 1, Alice applies x-gate to her qubit\n",
    "    if pair[0]=='1':\n",
    "        qc.x(q[0])\n",
    "\n",
    "    # if b_2 is 1, Alice applies z-gate to her qubit\n",
    "    if pair[1]=='1':\n",
    "        qc.z(q[0])\n",
    "\n",
    "    # Alice sends her qubit to Bob\n",
    "    qc.barrier()   #this is just for better visualization of circuit, shown by dotten lines \n",
    "\n",
    "    #  apply cx-gate as CNOT(Alice's qubit,Bob's qubit)\n",
    "    qc.cx(q[0],q[1])\n",
    "\n",
    "    # apply h-gate (Hadamard) to the Alice's qubit\n",
    "    qc.h(q[0])\n",
    "\n",
    "    # measure both qubits\n",
    "    qc.barrier()\n",
    "    qc.measure(q,c)\n",
    "\n",
    "    # draw the circuit in Qiskit's reading order\n",
    "    display(qc.draw(output='mpl',reverse_bits=True))\n",
    "\n",
    "    # compare the results with pair (b_1,b_2)\n",
    "    job = execute(qc,Aer.get_backend('qasm_simulator'),shots=100)\n",
    "    counts = job.result().get_counts(qc)\n",
    "    print(pair,\"-->\",counts)"
   ]
  },
  {
   "cell_type": "markdown",
   "metadata": {},
   "source": [
    "##### <font color='red'> Imp Exercise: Show that the four resulting two qubit states after the first barrier in the four quantum circuits shown above are exactly the four Bell states</font>"
   ]
  },
  {
   "cell_type": "markdown",
   "metadata": {},
   "source": [
    "*Bell states form an orthonormal basis for $2$ qubit states, and can therefore be distinguished by an appropriate quantum measurement.*\n",
    "\n",
    "If Alice sends her qubit to Bob, giving Bob possession of both qubits, then by doing a measurement in the Bell basis\n",
    "Bob can determine which of the four possible bit strings Alice sent.This is the key idea involved in superdense coding (hope you are able to convince this to yourself!!)"
   ]
  },
  {
   "cell_type": "markdown",
   "metadata": {},
   "source": [
    "**Key insight that can be seen through this notebook:** \n",
    "\n",
    "<font color='yellow'>Information is physical, and surprising physical theories such as quantum mechanics may predict surprising information processing abilities.</font>"
   ]
  },
  {
   "cell_type": "markdown",
   "metadata": {},
   "source": [
    "Experimental realization of Superdense coding can be found in this reference:\n",
    "https://courses.physics.illinois.edu/phys513/sp2016/reading/week9/Dense_coding_Zeilinger1996.pdf\n"
   ]
  },
  {
   "cell_type": "markdown",
   "metadata": {},
   "source": [
    "### References:\n",
    "\n",
    "- QWorld resources available at https://gitlab.com/qworld/qeducation/qbook101\n",
    "- Nielsen, M. A., & Chuang, I. L. (2010). Quantum Computation and Quantum Information: 10th Anniversary Edition. Cambridge: Cambridge University Press.\n",
    "- K. Mattle, H. Weinfurter, P. G. Kwiat, and A. Zeilinger. Dense coding in experimental quantum communication. Phys. Rev. Lett., 76(25):4656–4659, 1996"
   ]
  },
  {
   "cell_type": "markdown",
   "metadata": {},
   "source": []
  }
 ],
 "metadata": {
  "kernelspec": {
   "display_name": ".quantum",
   "language": "python",
   "name": "python3"
  },
  "language_info": {
   "codemirror_mode": {
    "name": "ipython",
    "version": 3
   },
   "file_extension": ".py",
   "mimetype": "text/x-python",
   "name": "python",
   "nbconvert_exporter": "python",
   "pygments_lexer": "ipython3",
   "version": "3.11.5"
  }
 },
 "nbformat": 4,
 "nbformat_minor": 2
}
